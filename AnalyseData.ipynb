{
 "cells": [
  {
   "cell_type": "markdown",
   "id": "c130e7e1",
   "metadata": {},
   "source": [
    "# Traitement les titre des articles d'une journal"
   ]
  },
  {
   "cell_type": "markdown",
   "id": "935e3ce7",
   "metadata": {},
   "source": [
    "### Ouvrire le fichier JSON"
   ]
  },
  {
   "cell_type": "code",
   "execution_count": 1,
   "id": "06f85e41",
   "metadata": {},
   "outputs": [],
   "source": [
    "import pandas as pd\n",
    "import matplotlib.pyplot as plt\n",
    "import json\n",
    "import datetime\n",
    "from datetime import datetime,date\n",
    "\n",
    "file = open(\"fixed_data.json\",\"r\",encoding=\"utf8\")\n",
    "data = json.load(file)\n",
    "df = pd.DataFrame(data)\n",
    "#df.head()\n"
   ]
  },
  {
   "cell_type": "markdown",
   "id": "4493bc80",
   "metadata": {},
   "source": [
    "### Obtenir le numero de la semaine a partir d'un date donneé"
   ]
  },
  {
   "cell_type": "code",
   "execution_count": 2,
   "id": "55bca5ab",
   "metadata": {},
   "outputs": [],
   "source": [
    "# get week number from date format \n",
    "def weekNum(str_date):\n",
    "    d = datetime.strptime(str_date,\"%Y-%m-%dT%H:%M:%S.%fZ\")\n",
    "    new_format = \"%Y-%m-%d\"\n",
    "    d.strftime(new_format)\n",
    "    return datetime.date(d).isocalendar()[1]\n"
   ]
  },
  {
   "cell_type": "markdown",
   "id": "050d8b5f",
   "metadata": {},
   "source": [
    "### Ajouter une colonne qui contient le numéro de la semaine"
   ]
  },
  {
   "cell_type": "code",
   "execution_count": 3,
   "id": "76598318",
   "metadata": {
    "scrolled": true
   },
   "outputs": [],
   "source": [
    "#new df have a weeks columens\n",
    "def newDataFrame(df):\n",
    "    dates_list = df[\"published\"].tolist()\n",
    "    weeks=list()\n",
    "    for d in dates_list:\n",
    "        weeks.append(weekNum(d))\n",
    "        \n",
    "    #add Week column to df \n",
    "    df['Week'] = weeks\n",
    "    return df\n"
   ]
  },
  {
   "cell_type": "markdown",
   "id": "942bef2f",
   "metadata": {},
   "source": [
    "### Récuperer tout les titres des articles pour un semaine donneé"
   ]
  },
  {
   "cell_type": "code",
   "execution_count": 4,
   "id": "01adbe8b",
   "metadata": {},
   "outputs": [],
   "source": [
    "#get titles of a given week\n",
    "def getTitlesByWeek(w,df):\n",
    "    l = list()\n",
    "    for i in df.index:\n",
    "        if df[\"Week\"][i] == w:\n",
    "            l.append(df[\"title\"][i])\n",
    "    return l\n",
    "        \n"
   ]
  },
  {
   "cell_type": "markdown",
   "id": "8bca75aa",
   "metadata": {},
   "source": [
    "### Extraire tout les mots et calculer le nombre d'occurrences pour chacun"
   ]
  },
  {
   "cell_type": "code",
   "execution_count": 5,
   "id": "13b5e0e3",
   "metadata": {},
   "outputs": [],
   "source": [
    "# get word:occurance dictinory  top 10 words\n",
    "def getWordsOcc(titles):\n",
    "    di = dict()\n",
    "    for title in titles:\n",
    "        words = title.split(\" \")\n",
    "        for w in words:\n",
    "            if w in di:\n",
    "                di[w] = di[w]+1\n",
    "            else:\n",
    "                di[w] = 1\n",
    "    \n",
    "    return di\n"
   ]
  },
  {
   "cell_type": "markdown",
   "id": "971b762c",
   "metadata": {},
   "source": [
    "### Clean data  Delete all stop words from words dictionary  "
   ]
  },
  {
   "cell_type": "code",
   "execution_count": 6,
   "id": "44fb0663",
   "metadata": {},
   "outputs": [],
   "source": [
    "#clean words data remove connecteurs to get the good words\n",
    "def CleanedData(di):\n",
    "    f = open(\"stop_words_french.json\",\"r\",encoding=\"utf8\")\n",
    "    dta = json.load(f)\n",
    "    stopwords = pd.DataFrame(dta)\n",
    "    stopwords_list = stopwords[0].tolist()\n",
    "    \n",
    "    new_dict = dict()\n",
    "    for key in di:\n",
    "        if key.lower() not in stopwords_list:\n",
    "            new_dict[key] = di[key]\n",
    "    return new_dict\n",
    "\n"
   ]
  },
  {
   "cell_type": "markdown",
   "id": "927a6267",
   "metadata": {},
   "source": [
    "### Main Function"
   ]
  },
  {
   "cell_type": "code",
   "execution_count": 16,
   "id": "b3437ece",
   "metadata": {
    "scrolled": true
   },
   "outputs": [],
   "source": [
    "#main fucnction to excute the operation\n",
    "def getTopWords(week):\n",
    "    if week > 22 or week < 10 :\n",
    "        print(\"les donneés de cette période ne sont pas disponible !! \")\n",
    "    else:\n",
    "        Articles_data = newDataFrame(df)\n",
    "        #Articles_data.head()\n",
    "        titles = getTitlesByWeek(week,Articles_data)\n",
    "        #print(titles)\n",
    "        my_dict = getWordsOcc(titles)\n",
    "        #print(my_dict)\n",
    "        cl_dict = CleanedData(my_dict)\n",
    "        #print(cl_dict)\n",
    "        words_data = pd.DataFrame(list(cl_dict.items()),columns = ['Word','Occu'])\n",
    "        words_data = words_data.sort_values(by='Occu', ascending=False)\n",
    "        words_data.head(10).plot(kind='bar',x='Word',y='Occu')\n",
    "    \n",
    "        words_data.head(10).to_json('myDataResult.json', orient = 'split', compression = 'infer', index = 'false')\n",
    "    \n",
    "        print(\"Operation termineé avec succes , vous trouvez le résultat dans le fichier : : myDataResult.json \")\n",
    "\n"
   ]
  },
  {
   "cell_type": "markdown",
   "id": "5e0dbaa0",
   "metadata": {},
   "source": [
    "### Test"
   ]
  },
  {
   "cell_type": "code",
   "execution_count": 27,
   "id": "d914415d",
   "metadata": {},
   "outputs": [
    {
     "name": "stdout",
     "output_type": "stream",
     "text": [
      "Entrez une date :   (ex: 2021-03-19) \n",
      "2021-03-19\n",
      "Operation termineé avec succes , vous trouvez le résultat dans le fichier : : myDataResult.json \n",
      "writ anything to quit \n",
      "j\n"
     ]
    },
    {
     "data": {
      "text/plain": [
       "'j'"
      ]
     },
     "execution_count": 27,
     "metadata": {},
     "output_type": "execute_result"
    },
    {
     "data": {
      "image/png": "[encoded data removed]",
      "text/plain": [
       "<Figure size 432x288 with 1 Axes>"
      ]
     },
     "metadata": {
      "needs_background": "light"
     },
     "output_type": "display_data"
    }
   ],
   "source": [
    "\n",
    "d = input(\"Entrez une date :   (ex: 2021-03-19) \\n\")\n",
    "def weekN(str_date):\n",
    "    d = datetime.strptime(str_date,\"%Y-%m-%d\")\n",
    "    new_format = \"%Y-%m-%d\"\n",
    "    d.strftime(new_format)\n",
    "    return datetime.date(d).isocalendar()[1]\n",
    "\n",
    "getTopWords(weekN(d))\n",
    "\n",
    "## this is just to allow the user to read message in the end of operation - when exécuting python in cmd terminal\n",
    "input(\"writ anything to quit \\n\")"
   ]
  },
  {
   "cell_type": "code",
   "execution_count": null,
   "id": "241b0130",
   "metadata": {},
   "outputs": [],
   "source": [
    "\n"
   ]
  }
 ],
 "metadata": {
  "kernelspec": {
   "display_name": "Python 3 (ipykernel)",
   "language": "python",
   "name": "python3"
  },
  "language_info": {
   "codemirror_mode": {
    "name": "ipython",
    "version": 3
   },
   "file_extension": ".py",
   "mimetype": "text/x-python",
   "name": "python",
   "nbconvert_exporter": "python",
   "pygments_lexer": "ipython3",
   "version": "3.7.4"
  }
 },
 "nbformat": 4,
 "nbformat_minor": 5
}
